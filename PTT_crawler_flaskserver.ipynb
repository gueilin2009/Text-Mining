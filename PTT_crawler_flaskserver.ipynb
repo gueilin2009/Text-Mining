{
 "cells": [
  {
   "cell_type": "markdown",
   "metadata": {},
   "source": [
    "### Deploy a jupyter docker, use flask module to build a flask server "
   ]
  },
  {
   "cell_type": "code",
   "execution_count": null,
   "metadata": {},
   "outputs": [
    {
     "name": "stdout",
     "output_type": "stream",
     "text": [
      "Requirement already satisfied: flask in c:\\users\\user\\anaconda3\\lib\\site-packages\n",
      "Requirement already satisfied: pymongo in c:\\users\\user\\anaconda3\\lib\\site-packages\n",
      "Requirement already satisfied: Werkzeug>=0.7 in c:\\users\\user\\anaconda3\\lib\\site-packages (from flask)\n",
      "Requirement already satisfied: Jinja2>=2.4 in c:\\users\\user\\anaconda3\\lib\\site-packages (from flask)\n",
      "Requirement already satisfied: itsdangerous>=0.21 in c:\\users\\user\\anaconda3\\lib\\site-packages (from flask)\n",
      "Requirement already satisfied: click>=2.0 in c:\\users\\user\\anaconda3\\lib\\site-packages (from flask)\n",
      "Requirement already satisfied: MarkupSafe>=0.23 in c:\\users\\user\\anaconda3\\lib\\site-packages (from Jinja2>=2.4->flask)\n"
     ]
    },
    {
     "name": "stderr",
     "output_type": "stream",
     "text": [
      "You are using pip version 9.0.1, however version 19.0.1 is available.\n",
      "You should consider upgrading via the 'python -m pip install --upgrade pip' command.\n",
      " * Running on http://0.0.0.0:5000/ (Press CTRL+C to quit)\n"
     ]
    }
   ],
   "source": [
    "#以docker-compose套件的設定檔docker-compose.yml起兩台容器(jupyter.local, mongo.local), 服務包好(或用docker --link)\n",
    "\n",
    "\n",
    "#進入第一台容器jupyter.local\n",
    "!pip install flask pymongo\n",
    "from flask import Flask\n",
    "app = Flask(__name__)  #Flask server\n",
    "\n",
    "import pymongo\n",
    "client = pymongo.MongoClient(\"mongo.local\",27017)   #連到另一台容器\n",
    "\n",
    "\n",
    "@app.route(\"/\")   #主頁\n",
    "def main_page():\n",
    "    return \"welcome to my Flask!\"\n",
    "\n",
    "\n",
    "@app.route(\"/data/db/text\")   \n",
    "def save_to_mongo():\n",
    "    def save_to_mongo(ptt_data):   \n",
    "    client.crawler.ptt.insert([ptt_data])  #crawler: database, ptt: collection  \n",
    "    return client\n",
    "\n",
    "\n",
    "@app.route(\"/data/db/text\")   #以0.0.0.0:5000/data/db/text路徑開啟server\n",
    "def get_data():\n",
    "    a1 = client.crawler.ptt.find({'author':'XXX'})  #設定要找的作者姓名\n",
    "    authors = a1['author']\n",
    "    a2 = client.crawler.ptt.find({'dt':'xxx'})  #設定要找的貼文時間\n",
    "    dates = a2['dt']\n",
    "    a3 = client.crawler.ptt.find({'content':'xxxx'})   #可用regular expression先過濾出包含某些關鍵字在內的貼文\n",
    "    text = a3['content']\n",
    "    #三者交集可用dict格式+if撈取\n",
    "    return authors, dates, text  #設定Server要回傳哪一項 \n",
    "\n",
    "\n",
    "@app.route(\"/data/db/text\")   #開Server查看word freq結果\n",
    "def cnt_words(text, res={})  \n",
    "    bag = text.replace(',','').replace('.','').replace('?','').lower().split()\n",
    "    for word in bag:\n",
    "        if word not in text2:  #設定text2為另一篇貼文或過濾的詞\n",
    "            if word in res:\n",
    "                res[word] += 1    #統計wordf freq\n",
    "            else:\n",
    "                res[word] = 1    #第一次進來會在這裡\n",
    "            return res\n",
    "\n",
    "\n",
    "if __name__ == \"__main__\":\n",
    "    app.run(host='0.0.0.0', debug=False)"
   ]
  }
 ],
 "metadata": {
  "kernelspec": {
   "display_name": "Python 3",
   "language": "python",
   "name": "python3"
  },
  "language_info": {
   "codemirror_mode": {
    "name": "ipython",
    "version": 3
   },
   "file_extension": ".py",
   "mimetype": "text/x-python",
   "name": "python",
   "nbconvert_exporter": "python",
   "pygments_lexer": "ipython3",
   "version": "3.6.4"
  }
 },
 "nbformat": 4,
 "nbformat_minor": 2
}
